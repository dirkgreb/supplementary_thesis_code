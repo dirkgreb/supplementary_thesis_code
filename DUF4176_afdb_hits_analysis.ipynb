{
 "cells": [
  {
   "cell_type": "code",
   "execution_count": 2,
   "metadata": {},
   "outputs": [],
   "source": [
    "import pandas as pd"
   ]
  },
  {
   "cell_type": "code",
   "execution_count": 21,
   "metadata": {},
   "outputs": [
    {
     "name": "stdout",
     "output_type": "stream",
     "text": [
      "Index(['accession', 'source'], dtype='object')\n",
      "Index(['accession', 'Reviewed', 'Entry Name', 'Protein names', 'Gene Names',\n",
      "       'Organism', 'Length', 'EMBL', 'Taxonomic lineage', 'Sequence',\n",
      "       'Fragment', 'Caution', 'kingdom', 'clade', 'phylum', 'class', 'order',\n",
      "       'family', 'genus', 'species'],\n",
      "      dtype='object')\n"
     ]
    }
   ],
   "source": [
    "accs_int_df = pd.read_csv('input_files/foldseek_top_accessions.csv')\n",
    "uniprot_df = pd.read_csv('input_files/duf4176_bacteria_uniprot.csv')\n",
    "uniprot_df = uniprot_df.rename(columns={'Entry': 'accession'})\n",
    "ndf = pd.read_csv('input_files/duf4176_gnn_neighb_acc_data.csv')\n",
    "print(accs_int_df.columns)\n",
    "print(uniprot_df.columns)\n"
   ]
  },
  {
   "cell_type": "code",
   "execution_count": 26,
   "metadata": {},
   "outputs": [],
   "source": [
    "acc_cluster_nums = ndf.groupby('attributes_accession').agg({'cluster_num': 'first'}).reset_index()\n",
    "acc_cluster_nums = acc_cluster_nums.rename(columns={'attributes_accession': 'accession'})\n",
    "annod_df = pd.merge(accs_int_df, uniprot_df, on='accession', how='left')\n",
    "annod_df = pd.merge(annod_df, acc_cluster_nums, on='accession', how='left')\n",
    "\n",
    "with open('foldseek_top_hits.fasta', 'w') as f:\n",
    "    for i, row in annod_df.iterrows():\n",
    "        # cluster_num = row['cluster_num']\n",
    "        accession = row['accession']\n",
    "        sequence = row['Sequence']\n",
    "        source = row['source']\n",
    "        organ = row['Organism']\n",
    "        line = f'>{source}-{accession}_{organ}\\n{sequence}\\n'\n",
    "        f.write(line)\n",
    "\n",
    "# acc_cluster_nums"
   ]
  }
 ],
 "metadata": {
  "kernelspec": {
   "display_name": "af2_tools",
   "language": "python",
   "name": "python3"
  },
  "language_info": {
   "codemirror_mode": {
    "name": "ipython",
    "version": 3
   },
   "file_extension": ".py",
   "mimetype": "text/x-python",
   "name": "python",
   "nbconvert_exporter": "python",
   "pygments_lexer": "ipython3",
   "version": "3.9.13"
  },
  "orig_nbformat": 4
 },
 "nbformat": 4,
 "nbformat_minor": 2
}
